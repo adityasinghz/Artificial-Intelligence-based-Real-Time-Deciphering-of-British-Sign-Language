{
 "cells": [
  {
   "cell_type": "markdown",
   "metadata": {},
   "source": [
    "# Importing Libraries"
   ]
  },
  {
   "cell_type": "code",
   "execution_count": 1,
   "metadata": {},
   "outputs": [],
   "source": [
    "import cv2\n",
    "import numpy as np\n",
    "import os\n",
    "from matplotlib import pyplot as plt\n",
    "import time\n",
    "import mediapipe as mp"
   ]
  },
  {
   "cell_type": "markdown",
   "metadata": {},
   "source": [
    "# Keypoints using MP Holistic"
   ]
  },
  {
   "cell_type": "code",
   "execution_count": 2,
   "metadata": {},
   "outputs": [],
   "source": [
    "mp_holistic = mp.solutions.holistic # Holistic model\n",
    "mp_drawing = mp.solutions.drawing_utils # Drawing utilities"
   ]
  },
  {
   "cell_type": "code",
   "execution_count": 3,
   "metadata": {},
   "outputs": [],
   "source": [
    "def mediapipe_detection(image, model):\n",
    "    image = cv2.cvtColor(image, cv2.COLOR_BGR2RGB) # COLOR CONVERSION BGR 2 RGB\n",
    "    image.flags.writeable = False                  # Image is no longer writeable\n",
    "    results = model.process(image)                 # Make prediction\n",
    "    image.flags.writeable = True                   # Image is now writeable \n",
    "    image = cv2.cvtColor(image, cv2.COLOR_RGB2BGR) # COLOR COVERSION RGB 2 BGR\n",
    "    return image, results"
   ]
  },
  {
   "cell_type": "code",
   "execution_count": 4,
   "metadata": {},
   "outputs": [],
   "source": [
    "def draw_landmarks(image, results):\n",
    "    mp_drawing.draw_landmarks(image, results.face_landmarks, mp_holistic.FACEMESH_TESSELATION) # Draw face connections\n",
    "    mp_drawing.draw_landmarks(image, results.pose_landmarks, mp_holistic.POSE_CONNECTIONS) # Draw pose connections\n",
    "    mp_drawing.draw_landmarks(image, results.left_hand_landmarks, mp_holistic.HAND_CONNECTIONS) # Draw left hand connections\n",
    "    mp_drawing.draw_landmarks(image, results.right_hand_landmarks, mp_holistic.HAND_CONNECTIONS) # Draw right hand connections"
   ]
  },
  {
   "cell_type": "code",
   "execution_count": 5,
   "metadata": {},
   "outputs": [
    {
     "name": "stdout",
     "output_type": "stream",
     "text": [
      "<class 'mediapipe.python.solution_base.SolutionOutputs'>\n",
      "<class 'mediapipe.python.solution_base.SolutionOutputs'>\n",
      "<class 'mediapipe.python.solution_base.SolutionOutputs'>\n",
      "<class 'mediapipe.python.solution_base.SolutionOutputs'>\n",
      "<class 'mediapipe.python.solution_base.SolutionOutputs'>\n",
      "<class 'mediapipe.python.solution_base.SolutionOutputs'>\n",
      "<class 'mediapipe.python.solution_base.SolutionOutputs'>\n",
      "<class 'mediapipe.python.solution_base.SolutionOutputs'>\n",
      "<class 'mediapipe.python.solution_base.SolutionOutputs'>\n",
      "<class 'mediapipe.python.solution_base.SolutionOutputs'>\n",
      "<class 'mediapipe.python.solution_base.SolutionOutputs'>\n",
      "<class 'mediapipe.python.solution_base.SolutionOutputs'>\n",
      "<class 'mediapipe.python.solution_base.SolutionOutputs'>\n",
      "<class 'mediapipe.python.solution_base.SolutionOutputs'>\n",
      "<class 'mediapipe.python.solution_base.SolutionOutputs'>\n",
      "<class 'mediapipe.python.solution_base.SolutionOutputs'>\n",
      "<class 'mediapipe.python.solution_base.SolutionOutputs'>\n",
      "<class 'mediapipe.python.solution_base.SolutionOutputs'>\n",
      "<class 'mediapipe.python.solution_base.SolutionOutputs'>\n",
      "<class 'mediapipe.python.solution_base.SolutionOutputs'>\n",
      "<class 'mediapipe.python.solution_base.SolutionOutputs'>\n",
      "<class 'mediapipe.python.solution_base.SolutionOutputs'>\n",
      "<class 'mediapipe.python.solution_base.SolutionOutputs'>\n",
      "<class 'mediapipe.python.solution_base.SolutionOutputs'>\n",
      "<class 'mediapipe.python.solution_base.SolutionOutputs'>\n",
      "<class 'mediapipe.python.solution_base.SolutionOutputs'>\n",
      "<class 'mediapipe.python.solution_base.SolutionOutputs'>\n",
      "<class 'mediapipe.python.solution_base.SolutionOutputs'>\n",
      "<class 'mediapipe.python.solution_base.SolutionOutputs'>\n",
      "<class 'mediapipe.python.solution_base.SolutionOutputs'>\n",
      "<class 'mediapipe.python.solution_base.SolutionOutputs'>\n",
      "<class 'mediapipe.python.solution_base.SolutionOutputs'>\n",
      "<class 'mediapipe.python.solution_base.SolutionOutputs'>\n",
      "<class 'mediapipe.python.solution_base.SolutionOutputs'>\n",
      "<class 'mediapipe.python.solution_base.SolutionOutputs'>\n",
      "<class 'mediapipe.python.solution_base.SolutionOutputs'>\n",
      "<class 'mediapipe.python.solution_base.SolutionOutputs'>\n",
      "<class 'mediapipe.python.solution_base.SolutionOutputs'>\n",
      "<class 'mediapipe.python.solution_base.SolutionOutputs'>\n",
      "<class 'mediapipe.python.solution_base.SolutionOutputs'>\n",
      "<class 'mediapipe.python.solution_base.SolutionOutputs'>\n",
      "<class 'mediapipe.python.solution_base.SolutionOutputs'>\n",
      "<class 'mediapipe.python.solution_base.SolutionOutputs'>\n",
      "<class 'mediapipe.python.solution_base.SolutionOutputs'>\n",
      "<class 'mediapipe.python.solution_base.SolutionOutputs'>\n",
      "<class 'mediapipe.python.solution_base.SolutionOutputs'>\n",
      "<class 'mediapipe.python.solution_base.SolutionOutputs'>\n",
      "<class 'mediapipe.python.solution_base.SolutionOutputs'>\n",
      "<class 'mediapipe.python.solution_base.SolutionOutputs'>\n",
      "<class 'mediapipe.python.solution_base.SolutionOutputs'>\n",
      "<class 'mediapipe.python.solution_base.SolutionOutputs'>\n",
      "<class 'mediapipe.python.solution_base.SolutionOutputs'>\n",
      "<class 'mediapipe.python.solution_base.SolutionOutputs'>\n",
      "<class 'mediapipe.python.solution_base.SolutionOutputs'>\n",
      "<class 'mediapipe.python.solution_base.SolutionOutputs'>\n",
      "<class 'mediapipe.python.solution_base.SolutionOutputs'>\n",
      "<class 'mediapipe.python.solution_base.SolutionOutputs'>\n",
      "<class 'mediapipe.python.solution_base.SolutionOutputs'>\n",
      "<class 'mediapipe.python.solution_base.SolutionOutputs'>\n",
      "<class 'mediapipe.python.solution_base.SolutionOutputs'>\n",
      "<class 'mediapipe.python.solution_base.SolutionOutputs'>\n",
      "<class 'mediapipe.python.solution_base.SolutionOutputs'>\n",
      "<class 'mediapipe.python.solution_base.SolutionOutputs'>\n",
      "<class 'mediapipe.python.solution_base.SolutionOutputs'>\n",
      "<class 'mediapipe.python.solution_base.SolutionOutputs'>\n",
      "<class 'mediapipe.python.solution_base.SolutionOutputs'>\n",
      "<class 'mediapipe.python.solution_base.SolutionOutputs'>\n",
      "<class 'mediapipe.python.solution_base.SolutionOutputs'>\n",
      "<class 'mediapipe.python.solution_base.SolutionOutputs'>\n",
      "<class 'mediapipe.python.solution_base.SolutionOutputs'>\n",
      "<class 'mediapipe.python.solution_base.SolutionOutputs'>\n",
      "<class 'mediapipe.python.solution_base.SolutionOutputs'>\n",
      "<class 'mediapipe.python.solution_base.SolutionOutputs'>\n",
      "<class 'mediapipe.python.solution_base.SolutionOutputs'>\n",
      "<class 'mediapipe.python.solution_base.SolutionOutputs'>\n",
      "<class 'mediapipe.python.solution_base.SolutionOutputs'>\n",
      "<class 'mediapipe.python.solution_base.SolutionOutputs'>\n",
      "<class 'mediapipe.python.solution_base.SolutionOutputs'>\n",
      "<class 'mediapipe.python.solution_base.SolutionOutputs'>\n",
      "<class 'mediapipe.python.solution_base.SolutionOutputs'>\n",
      "<class 'mediapipe.python.solution_base.SolutionOutputs'>\n",
      "<class 'mediapipe.python.solution_base.SolutionOutputs'>\n",
      "<class 'mediapipe.python.solution_base.SolutionOutputs'>\n",
      "<class 'mediapipe.python.solution_base.SolutionOutputs'>\n",
      "<class 'mediapipe.python.solution_base.SolutionOutputs'>\n",
      "<class 'mediapipe.python.solution_base.SolutionOutputs'>\n",
      "<class 'mediapipe.python.solution_base.SolutionOutputs'>\n"
     ]
    }
   ],
   "source": [
    "cap = cv2.VideoCapture(0)\n",
    "# Set mediapipe model \n",
    "with mp_holistic.Holistic(min_detection_confidence=0.5, min_tracking_confidence=0.5) as holistic:\n",
    "    while cap.isOpened():\n",
    "\n",
    "        # Read feed\n",
    "        ret, frame = cap.read()\n",
    "\n",
    "        # Make detections\n",
    "        image, results = mediapipe_detection(frame, holistic)\n",
    "        print(results)\n",
    "\n",
    "        # Show to screen\n",
    "        cv2.imshow('OpenCV Feed', image)\n",
    "\n",
    "\n",
    "        if cv2.waitKey(10) & 0xFF == ord('q'):\n",
    "            break\n",
    "    cap.release()\n",
    "    cv2.destroyAllWindows()"
   ]
  },
  {
   "cell_type": "code",
   "execution_count": 6,
   "metadata": {},
   "outputs": [
    {
     "data": {
      "text/plain": [
       "mediapipe.python.solution_base.SolutionOutputs"
      ]
     },
     "execution_count": 6,
     "metadata": {},
     "output_type": "execute_result"
    }
   ],
   "source": [
    "results"
   ]
  },
  {
   "cell_type": "code",
   "execution_count": 7,
   "metadata": {},
   "outputs": [],
   "source": [
    "draw_landmarks(frame, results)"
   ]
  },
  {
   "cell_type": "code",
   "execution_count": 8,
   "metadata": {},
   "outputs": [
    {
     "data": {
      "text/plain": [
       "<matplotlib.image.AxesImage at 0x19fe236b4c0>"
      ]
     },
     "execution_count": 8,
     "metadata": {},
     "output_type": "execute_result"
    },
    {
     "data": {
      "image/png": "[encoded data removed]",
      "text/plain": [
       "<Figure size 432x288 with 1 Axes>"
      ]
     },
     "metadata": {
      "needs_background": "light"
     },
     "output_type": "display_data"
    }
   ],
   "source": [
    "plt.imshow(cv2.cvtColor(frame, cv2.COLOR_BGR2RGB))"
   ]
  },
  {
   "cell_type": "markdown",
   "metadata": {},
   "source": [
    "# Extract Keypoint Values"
   ]
  },
  {
   "cell_type": "code",
   "execution_count": 9,
   "metadata": {},
   "outputs": [],
   "source": [
    "pose = []\n",
    "for res in results.pose_landmarks.landmark:\n",
    "    test = np.array([res.x, res.y, res.z, res.visibility])\n",
    "    pose.append(test)"
   ]
  },
  {
   "cell_type": "code",
   "execution_count": 10,
   "metadata": {},
   "outputs": [],
   "source": [
    "pose = np.array([[res.x, res.y, res.z, res.visibility] for res in results.pose_landmarks.landmark]).flatten() if results.pose_landmarks else np.zeros(132)\n",
    "face = np.array([[res.x, res.y, res.z] for res in results.face_landmarks.landmark]).flatten() if results.face_landmarks else np.zeros(1404)\n",
    "lh = np.array([[res.x, res.y, res.z] for res in results.left_hand_landmarks.landmark]).flatten() if results.left_hand_landmarks else np.zeros(21*3)\n",
    "rh = np.array([[res.x, res.y, res.z] for res in results.right_hand_landmarks.landmark]).flatten() if results.right_hand_landmarks else np.zeros(21*3)"
   ]
  },
  {
   "cell_type": "code",
   "execution_count": 11,
   "metadata": {},
   "outputs": [],
   "source": [
    "def extract_keypoints(results):\n",
    "    pose = np.array([[res.x, res.y, res.z, res.visibility] for res in results.pose_landmarks.landmark]).flatten() if results.pose_landmarks else np.zeros(33*4)\n",
    "    face = np.array([[res.x, res.y, res.z] for res in results.face_landmarks.landmark]).flatten() if results.face_landmarks else np.zeros(468*3)\n",
    "    lh = np.array([[res.x, res.y, res.z] for res in results.left_hand_landmarks.landmark]).flatten() if results.left_hand_landmarks else np.zeros(21*3)\n",
    "    rh = np.array([[res.x, res.y, res.z] for res in results.right_hand_landmarks.landmark]).flatten() if results.right_hand_landmarks else np.zeros(21*3)\n",
    "    return np.concatenate([pose, face, lh, rh])"
   ]
  },
  {
   "cell_type": "code",
   "execution_count": 12,
   "metadata": {},
   "outputs": [],
   "source": [
    "result_test = extract_keypoints(results)"
   ]
  },
  {
   "cell_type": "code",
   "execution_count": 13,
   "metadata": {},
   "outputs": [
    {
     "data": {
      "text/plain": [
       "array([ 0.49119249,  0.52923858, -0.92133838, ...,  0.19684789,\n",
       "        0.44552949, -0.04196727])"
      ]
     },
     "execution_count": 13,
     "metadata": {},
     "output_type": "execute_result"
    }
   ],
   "source": [
    "result_test"
   ]
  },
  {
   "cell_type": "code",
   "execution_count": 14,
   "metadata": {},
   "outputs": [
    {
     "data": {
      "text/plain": [
       "1662"
      ]
     },
     "execution_count": 14,
     "metadata": {},
     "output_type": "execute_result"
    }
   ],
   "source": [
    "468*3+33*4+21*3+21*3"
   ]
  },
  {
   "cell_type": "code",
   "execution_count": 15,
   "metadata": {},
   "outputs": [],
   "source": [
    "np.save('0', result_test)"
   ]
  },
  {
   "cell_type": "code",
   "execution_count": 16,
   "metadata": {},
   "outputs": [
    {
     "data": {
      "text/plain": [
       "array([ 0.49119249,  0.52923858, -0.92133838, ...,  0.19684789,\n",
       "        0.44552949, -0.04196727])"
      ]
     },
     "execution_count": 16,
     "metadata": {},
     "output_type": "execute_result"
    }
   ],
   "source": [
    "np.load('0.npy')"
   ]
  },
  {
   "cell_type": "markdown",
   "metadata": {},
   "source": [
    "# Setup Folders for Collection"
   ]
  },
  {
   "cell_type": "code",
   "execution_count": 17,
   "metadata": {},
   "outputs": [],
   "source": [
    "# Path for exported data, numpy arrays\n",
    "DATA_PATH = os.path.join('MP_Data') \n",
    "\n",
    "# Actions that we try to detect\n",
    "actions = np.array(['hello', 'thanks', 'sorry', 'help', 'home'])\n",
    "\n",
    "# Thirty videos of data\n",
    "no_sequences = 30\n",
    "\n",
    "# Videos are going to be 30 frames in length\n",
    "sequence_length = 30"
   ]
  },
  {
   "cell_type": "code",
   "execution_count": 18,
   "metadata": {},
   "outputs": [],
   "source": [
    "for action in actions: \n",
    "    for sequence in range(no_sequences):\n",
    "        try: \n",
    "            os.makedirs(os.path.join(DATA_PATH, action, str(sequence)))\n",
    "        except:\n",
    "            pass"
   ]
  },
  {
   "cell_type": "markdown",
   "metadata": {},
   "source": [
    "# Collect Keypoint Values for Training and Testing"
   ]
  },
  {
   "cell_type": "code",
   "execution_count": 330,
   "metadata": {},
   "outputs": [],
   "source": [
    "cap = cv2.VideoCapture(0)\n",
    "# Set mediapipe model \n",
    "with mp_holistic.Holistic(min_detection_confidence=0.5, min_tracking_confidence=0.5) as holistic:\n",
    "    \n",
    "    # NEW LOOP\n",
    "    # Loop through actions\n",
    "    for action in actions:\n",
    "        # Loop through sequences aka videos\n",
    "        for sequence in range(no_sequences):\n",
    "            # Loop through video length aka sequence length\n",
    "            for frame_num in range(sequence_length):\n",
    "\n",
    "                # Read feed\n",
    "                ret, frame = cap.read()\n",
    "\n",
    "                # Make detections\n",
    "                image, results = mediapipe_detection(frame, holistic)\n",
    "#                 print(results)\n",
    "                \n",
    "                # NEW Apply wait logic\n",
    "                if frame_num == 0: \n",
    "                    cv2.putText(image, 'STARTING COLLECTION', (120,200), \n",
    "                               cv2.FONT_HERSHEY_SIMPLEX, 1, (0,255, 0), 4, cv2.LINE_AA)\n",
    "                    cv2.putText(image, 'Collecting frames for {} Video Number {}'.format(action, sequence), (15,12), \n",
    "                               cv2.FONT_HERSHEY_SIMPLEX, 0.5, (0, 0, 255), 1, cv2.LINE_AA)\n",
    "                    # Show to screen\n",
    "                    cv2.imshow('OpenCV Feed', image)\n",
    "                    cv2.waitKey(500)\n",
    "                else: \n",
    "                    cv2.putText(image, 'Collecting frames for {} Video Number {}'.format(action, sequence), (15,12), \n",
    "                               cv2.FONT_HERSHEY_SIMPLEX, 0.5, (0, 0, 255), 1, cv2.LINE_AA)\n",
    "                    # Show to screen\n",
    "                    cv2.imshow('OpenCV Feed', image)\n",
    "                \n",
    "                # NEW Export keypoints\n",
    "                keypoints = extract_keypoints(results)\n",
    "                npy_path = os.path.join(DATA_PATH, action, str(sequence), str(frame_num))\n",
    "                np.save(npy_path, keypoints)\n",
    "\n",
    "                # Break \n",
    "                if cv2.waitKey(10) & 0xFF == ord('q'):\n",
    "                    break\n",
    "                    \n",
    "    cap.release()\n",
    "    cv2.destroyAllWindows()"
   ]
  },
  {
   "cell_type": "code",
   "execution_count": 331,
   "metadata": {},
   "outputs": [],
   "source": [
    "cap.release()\n",
    "cv2.destroyAllWindows()"
   ]
  },
  {
   "cell_type": "markdown",
   "metadata": {},
   "source": [
    "#  Preprocess Data and Create Labels and Features"
   ]
  },
  {
   "cell_type": "code",
   "execution_count": 19,
   "metadata": {},
   "outputs": [],
   "source": [
    "from sklearn.model_selection import train_test_split\n",
    "from tensorflow.keras.utils import to_categorical"
   ]
  },
  {
   "cell_type": "code",
   "execution_count": 20,
   "metadata": {},
   "outputs": [],
   "source": [
    "label_map = {label:num for num, label in enumerate(actions)}"
   ]
  },
  {
   "cell_type": "code",
   "execution_count": 21,
   "metadata": {},
   "outputs": [
    {
     "data": {
      "text/plain": [
       "{'hello': 0, 'thanks': 1, 'sorry': 2, 'help': 3, 'home': 4}"
      ]
     },
     "execution_count": 21,
     "metadata": {},
     "output_type": "execute_result"
    }
   ],
   "source": [
    "label_map"
   ]
  },
  {
   "cell_type": "code",
   "execution_count": 22,
   "metadata": {},
   "outputs": [],
   "source": [
    "sequences, labels = [], []\n",
    "for action in actions:\n",
    "    for sequence in range(no_sequences):\n",
    "        window = []\n",
    "        for frame_num in range(sequence_length):\n",
    "            res = np.load(os.path.join(DATA_PATH, action, str(sequence), \"{}.npy\".format(frame_num)))\n",
    "            window.append(res)\n",
    "        sequences.append(window)\n",
    "        labels.append(label_map[action])"
   ]
  },
  {
   "cell_type": "code",
   "execution_count": 23,
   "metadata": {},
   "outputs": [
    {
     "data": {
      "text/plain": [
       "(150, 30, 1662)"
      ]
     },
     "execution_count": 23,
     "metadata": {},
     "output_type": "execute_result"
    }
   ],
   "source": [
    "np.array(sequences).shape"
   ]
  },
  {
   "cell_type": "code",
   "execution_count": 24,
   "metadata": {},
   "outputs": [
    {
     "data": {
      "text/plain": [
       "(150,)"
      ]
     },
     "execution_count": 24,
     "metadata": {},
     "output_type": "execute_result"
    }
   ],
   "source": [
    "np.array(labels).shape"
   ]
  },
  {
   "cell_type": "code",
   "execution_count": 25,
   "metadata": {},
   "outputs": [],
   "source": [
    "X = np.array(sequences)"
   ]
  },
  {
   "cell_type": "code",
   "execution_count": 26,
   "metadata": {},
   "outputs": [
    {
     "data": {
      "text/plain": [
       "(150, 30, 1662)"
      ]
     },
     "execution_count": 26,
     "metadata": {},
     "output_type": "execute_result"
    }
   ],
   "source": [
    "X.shape"
   ]
  },
  {
   "cell_type": "code",
   "execution_count": 27,
   "metadata": {},
   "outputs": [],
   "source": [
    "y = to_categorical(labels).astype(int)"
   ]
  },
  {
   "cell_type": "code",
   "execution_count": 28,
   "metadata": {},
   "outputs": [
    {
     "data": {
      "text/plain": [
       "array([[1, 0, 0, 0, 0],\n",
       "       [1, 0, 0, 0, 0],\n",
       "       [1, 0, 0, 0, 0],\n",
       "       [1, 0, 0, 0, 0],\n",
       "       [1, 0, 0, 0, 0],\n",
       "       [1, 0, 0, 0, 0],\n",
       "       [1, 0, 0, 0, 0],\n",
       "       [1, 0, 0, 0, 0],\n",
       "       [1, 0, 0, 0, 0],\n",
       "       [1, 0, 0, 0, 0],\n",
       "       [1, 0, 0, 0, 0],\n",
       "       [1, 0, 0, 0, 0],\n",
       "       [1, 0, 0, 0, 0],\n",
       "       [1, 0, 0, 0, 0],\n",
       "       [1, 0, 0, 0, 0],\n",
       "       [1, 0, 0, 0, 0],\n",
       "       [1, 0, 0, 0, 0],\n",
       "       [1, 0, 0, 0, 0],\n",
       "       [1, 0, 0, 0, 0],\n",
       "       [1, 0, 0, 0, 0],\n",
       "       [1, 0, 0, 0, 0],\n",
       "       [1, 0, 0, 0, 0],\n",
       "       [1, 0, 0, 0, 0],\n",
       "       [1, 0, 0, 0, 0],\n",
       "       [1, 0, 0, 0, 0],\n",
       "       [1, 0, 0, 0, 0],\n",
       "       [1, 0, 0, 0, 0],\n",
       "       [1, 0, 0, 0, 0],\n",
       "       [1, 0, 0, 0, 0],\n",
       "       [1, 0, 0, 0, 0],\n",
       "       [0, 1, 0, 0, 0],\n",
       "       [0, 1, 0, 0, 0],\n",
       "       [0, 1, 0, 0, 0],\n",
       "       [0, 1, 0, 0, 0],\n",
       "       [0, 1, 0, 0, 0],\n",
       "       [0, 1, 0, 0, 0],\n",
       "       [0, 1, 0, 0, 0],\n",
       "       [0, 1, 0, 0, 0],\n",
       "       [0, 1, 0, 0, 0],\n",
       "       [0, 1, 0, 0, 0],\n",
       "       [0, 1, 0, 0, 0],\n",
       "       [0, 1, 0, 0, 0],\n",
       "       [0, 1, 0, 0, 0],\n",
       "       [0, 1, 0, 0, 0],\n",
       "       [0, 1, 0, 0, 0],\n",
       "       [0, 1, 0, 0, 0],\n",
       "       [0, 1, 0, 0, 0],\n",
       "       [0, 1, 0, 0, 0],\n",
       "       [0, 1, 0, 0, 0],\n",
       "       [0, 1, 0, 0, 0],\n",
       "       [0, 1, 0, 0, 0],\n",
       "       [0, 1, 0, 0, 0],\n",
       "       [0, 1, 0, 0, 0],\n",
       "       [0, 1, 0, 0, 0],\n",
       "       [0, 1, 0, 0, 0],\n",
       "       [0, 1, 0, 0, 0],\n",
       "       [0, 1, 0, 0, 0],\n",
       "       [0, 1, 0, 0, 0],\n",
       "       [0, 1, 0, 0, 0],\n",
       "       [0, 1, 0, 0, 0],\n",
       "       [0, 0, 1, 0, 0],\n",
       "       [0, 0, 1, 0, 0],\n",
       "       [0, 0, 1, 0, 0],\n",
       "       [0, 0, 1, 0, 0],\n",
       "       [0, 0, 1, 0, 0],\n",
       "       [0, 0, 1, 0, 0],\n",
       "       [0, 0, 1, 0, 0],\n",
       "       [0, 0, 1, 0, 0],\n",
       "       [0, 0, 1, 0, 0],\n",
       "       [0, 0, 1, 0, 0],\n",
       "       [0, 0, 1, 0, 0],\n",
       "       [0, 0, 1, 0, 0],\n",
       "       [0, 0, 1, 0, 0],\n",
       "       [0, 0, 1, 0, 0],\n",
       "       [0, 0, 1, 0, 0],\n",
       "       [0, 0, 1, 0, 0],\n",
       "       [0, 0, 1, 0, 0],\n",
       "       [0, 0, 1, 0, 0],\n",
       "       [0, 0, 1, 0, 0],\n",
       "       [0, 0, 1, 0, 0],\n",
       "       [0, 0, 1, 0, 0],\n",
       "       [0, 0, 1, 0, 0],\n",
       "       [0, 0, 1, 0, 0],\n",
       "       [0, 0, 1, 0, 0],\n",
       "       [0, 0, 1, 0, 0],\n",
       "       [0, 0, 1, 0, 0],\n",
       "       [0, 0, 1, 0, 0],\n",
       "       [0, 0, 1, 0, 0],\n",
       "       [0, 0, 1, 0, 0],\n",
       "       [0, 0, 1, 0, 0],\n",
       "       [0, 0, 0, 1, 0],\n",
       "       [0, 0, 0, 1, 0],\n",
       "       [0, 0, 0, 1, 0],\n",
       "       [0, 0, 0, 1, 0],\n",
       "       [0, 0, 0, 1, 0],\n",
       "       [0, 0, 0, 1, 0],\n",
       "       [0, 0, 0, 1, 0],\n",
       "       [0, 0, 0, 1, 0],\n",
       "       [0, 0, 0, 1, 0],\n",
       "       [0, 0, 0, 1, 0],\n",
       "       [0, 0, 0, 1, 0],\n",
       "       [0, 0, 0, 1, 0],\n",
       "       [0, 0, 0, 1, 0],\n",
       "       [0, 0, 0, 1, 0],\n",
       "       [0, 0, 0, 1, 0],\n",
       "       [0, 0, 0, 1, 0],\n",
       "       [0, 0, 0, 1, 0],\n",
       "       [0, 0, 0, 1, 0],\n",
       "       [0, 0, 0, 1, 0],\n",
       "       [0, 0, 0, 1, 0],\n",
       "       [0, 0, 0, 1, 0],\n",
       "       [0, 0, 0, 1, 0],\n",
       "       [0, 0, 0, 1, 0],\n",
       "       [0, 0, 0, 1, 0],\n",
       "       [0, 0, 0, 1, 0],\n",
       "       [0, 0, 0, 1, 0],\n",
       "       [0, 0, 0, 1, 0],\n",
       "       [0, 0, 0, 1, 0],\n",
       "       [0, 0, 0, 1, 0],\n",
       "       [0, 0, 0, 1, 0],\n",
       "       [0, 0, 0, 0, 1],\n",
       "       [0, 0, 0, 0, 1],\n",
       "       [0, 0, 0, 0, 1],\n",
       "       [0, 0, 0, 0, 1],\n",
       "       [0, 0, 0, 0, 1],\n",
       "       [0, 0, 0, 0, 1],\n",
       "       [0, 0, 0, 0, 1],\n",
       "       [0, 0, 0, 0, 1],\n",
       "       [0, 0, 0, 0, 1],\n",
       "       [0, 0, 0, 0, 1],\n",
       "       [0, 0, 0, 0, 1],\n",
       "       [0, 0, 0, 0, 1],\n",
       "       [0, 0, 0, 0, 1],\n",
       "       [0, 0, 0, 0, 1],\n",
       "       [0, 0, 0, 0, 1],\n",
       "       [0, 0, 0, 0, 1],\n",
       "       [0, 0, 0, 0, 1],\n",
       "       [0, 0, 0, 0, 1],\n",
       "       [0, 0, 0, 0, 1],\n",
       "       [0, 0, 0, 0, 1],\n",
       "       [0, 0, 0, 0, 1],\n",
       "       [0, 0, 0, 0, 1],\n",
       "       [0, 0, 0, 0, 1],\n",
       "       [0, 0, 0, 0, 1],\n",
       "       [0, 0, 0, 0, 1],\n",
       "       [0, 0, 0, 0, 1],\n",
       "       [0, 0, 0, 0, 1],\n",
       "       [0, 0, 0, 0, 1],\n",
       "       [0, 0, 0, 0, 1],\n",
       "       [0, 0, 0, 0, 1]])"
      ]
     },
     "execution_count": 28,
     "metadata": {},
     "output_type": "execute_result"
    }
   ],
   "source": [
    "y"
   ]
  },
  {
   "cell_type": "code",
   "execution_count": 31,
   "metadata": {},
   "outputs": [],
   "source": [
    "X_train, X_test, y_train, y_test = train_test_split(X, y, test_size=0.05)"
   ]
  },
  {
   "cell_type": "code",
   "execution_count": 32,
   "metadata": {},
   "outputs": [
    {
     "data": {
      "text/plain": [
       "(8, 5)"
      ]
     },
     "execution_count": 32,
     "metadata": {},
     "output_type": "execute_result"
    }
   ],
   "source": [
    "y_test.shape"
   ]
  },
  {
   "cell_type": "markdown",
   "metadata": {},
   "source": [
    "# Build and Train LSTM Neural Network"
   ]
  },
  {
   "cell_type": "code",
   "execution_count": 33,
   "metadata": {},
   "outputs": [],
   "source": [
    "from tensorflow.keras.models import Sequential\n",
    "from tensorflow.keras.layers import LSTM, Dense\n",
    "from tensorflow.keras.callbacks import TensorBoard"
   ]
  },
  {
   "cell_type": "code",
   "execution_count": 34,
   "metadata": {},
   "outputs": [],
   "source": [
    "log_dir = os.path.join('Logs')\n",
    "tb_callback = TensorBoard(log_dir=log_dir)"
   ]
  },
  {
   "cell_type": "code",
   "execution_count": 35,
   "metadata": {},
   "outputs": [],
   "source": [
    "model = Sequential()\n",
    "model.add(LSTM(32, name='lstm1', return_sequences=False, activation='relu', input_shape=(30,1662)))\n",
    "#model.add(LSTM(128,name='lstm2', return_sequences=True, activation='relu'))\n",
    "#model.add(LSTM(64, name='lstm3', return_sequences=False, activation='relu'))\n",
    "#model.add(Dense(64, name='dense1', activation='relu'))\n",
    "#model.add(Dense(32, name= 'dense2', activation='relu'))\n",
    "model.add(Dense(actions.shape[0], name='dense3', activation='softmax'))"
   ]
  },
  {
   "cell_type": "code",
   "execution_count": 36,
   "metadata": {},
   "outputs": [],
   "source": [
    "res = [.7, 0.2, 0.1,0.3,0.8]"
   ]
  },
  {
   "cell_type": "code",
   "execution_count": 37,
   "metadata": {},
   "outputs": [
    {
     "data": {
      "text/plain": [
       "'home'"
      ]
     },
     "execution_count": 37,
     "metadata": {},
     "output_type": "execute_result"
    }
   ],
   "source": [
    "actions[np.argmax(res)]"
   ]
  },
  {
   "cell_type": "code",
   "execution_count": 38,
   "metadata": {},
   "outputs": [],
   "source": [
    "model.compile(optimizer='Adam', loss='categorical_crossentropy', metrics=['accuracy'])"
   ]
  },
  {
   "cell_type": "code",
   "execution_count": 41,
   "metadata": {
    "scrolled": true
   },
   "outputs": [
    {
     "name": "stdout",
     "output_type": "stream",
     "text": [
      "Epoch 1/25\n",
      "4/4 [==============================] - 0s 89ms/step - loss: 0.0489 - accuracy: 0.9843 - val_loss: 1.1245 - val_accuracy: 0.7333\n",
      "Epoch 2/25\n",
      "4/4 [==============================] - 0s 51ms/step - loss: 0.0711 - accuracy: 0.9764 - val_loss: 0.6023 - val_accuracy: 0.8667\n",
      "Epoch 3/25\n",
      "4/4 [==============================] - 0s 52ms/step - loss: 0.0329 - accuracy: 0.9921 - val_loss: 0.4733 - val_accuracy: 0.8667\n",
      "Epoch 4/25\n",
      "4/4 [==============================] - 0s 51ms/step - loss: 0.0162 - accuracy: 1.0000 - val_loss: 0.3548 - val_accuracy: 0.9333\n",
      "Epoch 5/25\n",
      "4/4 [==============================] - 0s 50ms/step - loss: 0.0239 - accuracy: 1.0000 - val_loss: 0.5452 - val_accuracy: 0.8667\n",
      "Epoch 6/25\n",
      "4/4 [==============================] - 0s 60ms/step - loss: 0.0356 - accuracy: 0.9843 - val_loss: 0.6172 - val_accuracy: 0.8667\n",
      "Epoch 7/25\n",
      "4/4 [==============================] - 0s 53ms/step - loss: 0.0873 - accuracy: 0.9606 - val_loss: 2.9086 - val_accuracy: 0.6000\n",
      "Epoch 8/25\n",
      "4/4 [==============================] - 0s 48ms/step - loss: 0.0660 - accuracy: 0.9764 - val_loss: 1.4254 - val_accuracy: 0.8000\n",
      "Epoch 9/25\n",
      "4/4 [==============================] - 0s 52ms/step - loss: 0.0379 - accuracy: 0.9843 - val_loss: 0.5579 - val_accuracy: 0.9333\n",
      "Epoch 10/25\n",
      "4/4 [==============================] - 0s 50ms/step - loss: 0.0211 - accuracy: 1.0000 - val_loss: 0.5522 - val_accuracy: 0.9333\n",
      "Epoch 11/25\n",
      "4/4 [==============================] - 0s 51ms/step - loss: 0.0124 - accuracy: 1.0000 - val_loss: 0.6281 - val_accuracy: 0.9333\n",
      "Epoch 12/25\n",
      "4/4 [==============================] - 0s 48ms/step - loss: 0.0066 - accuracy: 1.0000 - val_loss: 0.6721 - val_accuracy: 0.9333\n",
      "Epoch 13/25\n",
      "4/4 [==============================] - 0s 51ms/step - loss: 0.0051 - accuracy: 1.0000 - val_loss: 0.6743 - val_accuracy: 0.9333\n",
      "Epoch 14/25\n",
      "4/4 [==============================] - 0s 62ms/step - loss: 0.0049 - accuracy: 1.0000 - val_loss: 0.6250 - val_accuracy: 0.9333\n",
      "Epoch 15/25\n",
      "4/4 [==============================] - 0s 48ms/step - loss: 0.0043 - accuracy: 1.0000 - val_loss: 0.6445 - val_accuracy: 0.9333\n",
      "Epoch 16/25\n",
      "4/4 [==============================] - 0s 50ms/step - loss: 0.0035 - accuracy: 1.0000 - val_loss: 0.6521 - val_accuracy: 0.9333\n",
      "Epoch 17/25\n",
      "4/4 [==============================] - 0s 54ms/step - loss: 0.0033 - accuracy: 1.0000 - val_loss: 0.6571 - val_accuracy: 0.9333\n",
      "Epoch 18/25\n",
      "4/4 [==============================] - 0s 53ms/step - loss: 0.0028 - accuracy: 1.0000 - val_loss: 0.6651 - val_accuracy: 0.9333\n",
      "Epoch 19/25\n",
      "4/4 [==============================] - 0s 55ms/step - loss: 0.0026 - accuracy: 1.0000 - val_loss: 0.6979 - val_accuracy: 0.9333\n",
      "Epoch 20/25\n",
      "4/4 [==============================] - 0s 50ms/step - loss: 0.0022 - accuracy: 1.0000 - val_loss: 0.7229 - val_accuracy: 0.9333\n",
      "Epoch 21/25\n",
      "4/4 [==============================] - 0s 52ms/step - loss: 0.0020 - accuracy: 1.0000 - val_loss: 0.7395 - val_accuracy: 0.9333\n",
      "Epoch 22/25\n",
      "4/4 [==============================] - 0s 51ms/step - loss: 0.0018 - accuracy: 1.0000 - val_loss: 0.7542 - val_accuracy: 0.9333\n",
      "Epoch 23/25\n",
      "4/4 [==============================] - 0s 48ms/step - loss: 0.0017 - accuracy: 1.0000 - val_loss: 0.7684 - val_accuracy: 0.9333\n",
      "Epoch 24/25\n",
      "4/4 [==============================] - 0s 53ms/step - loss: 0.0015 - accuracy: 1.0000 - val_loss: 0.7846 - val_accuracy: 0.9333\n",
      "Epoch 25/25\n",
      "4/4 [==============================] - 0s 51ms/step - loss: 0.0014 - accuracy: 1.0000 - val_loss: 0.7987 - val_accuracy: 0.9333\n"
     ]
    },
    {
     "data": {
      "text/plain": [
       "<tensorflow.python.keras.callbacks.History at 0x19f86fddb20>"
      ]
     },
     "execution_count": 41,
     "metadata": {},
     "output_type": "execute_result"
    }
   ],
   "source": [
    "model.fit(X_train, y_train, epochs=25, callbacks=[tb_callback],validation_split=0.1)"
   ]
  },
  {
   "cell_type": "code",
   "execution_count": 42,
   "metadata": {},
   "outputs": [
    {
     "name": "stdout",
     "output_type": "stream",
     "text": [
      "Model: \"sequential\"\n",
      "_________________________________________________________________\n",
      "Layer (type)                 Output Shape              Param #   \n",
      "=================================================================\n",
      "lstm1 (LSTM)                 (None, 32)                216960    \n",
      "_________________________________________________________________\n",
      "dense3 (Dense)               (None, 5)                 165       \n",
      "=================================================================\n",
      "Total params: 217,125\n",
      "Trainable params: 217,125\n",
      "Non-trainable params: 0\n",
      "_________________________________________________________________\n"
     ]
    }
   ],
   "source": [
    "model.summary()"
   ]
  },
  {
   "cell_type": "markdown",
   "metadata": {},
   "source": [
    "# Make Predictions"
   ]
  },
  {
   "cell_type": "code",
   "execution_count": 97,
   "metadata": {},
   "outputs": [],
   "source": [
    "res = model.predict(X_test)"
   ]
  },
  {
   "cell_type": "code",
   "execution_count": 98,
   "metadata": {},
   "outputs": [
    {
     "data": {
      "text/plain": [
       "'home'"
      ]
     },
     "execution_count": 98,
     "metadata": {},
     "output_type": "execute_result"
    }
   ],
   "source": [
    "actions[np.argmax(res[4])]"
   ]
  },
  {
   "cell_type": "code",
   "execution_count": 96,
   "metadata": {},
   "outputs": [
    {
     "data": {
      "text/plain": [
       "'home'"
      ]
     },
     "execution_count": 96,
     "metadata": {},
     "output_type": "execute_result"
    }
   ],
   "source": [
    "actions[np.argmax(y_test[4])]"
   ]
  },
  {
   "cell_type": "markdown",
   "metadata": {},
   "source": [
    "# Save Weights"
   ]
  },
  {
   "cell_type": "code",
   "execution_count": 99,
   "metadata": {},
   "outputs": [],
   "source": [
    "model.save('action.h5')"
   ]
  },
  {
   "cell_type": "code",
   "execution_count": 100,
   "metadata": {},
   "outputs": [],
   "source": [
    "model.load_weights('action.h5')"
   ]
  },
  {
   "cell_type": "markdown",
   "metadata": {},
   "source": [
    "# Evaluation using Accuracy"
   ]
  },
  {
   "cell_type": "code",
   "execution_count": 101,
   "metadata": {},
   "outputs": [],
   "source": [
    "from sklearn.metrics import multilabel_confusion_matrix, accuracy_score"
   ]
  },
  {
   "cell_type": "code",
   "execution_count": 102,
   "metadata": {},
   "outputs": [],
   "source": [
    "yhat = model.predict(X_test)"
   ]
  },
  {
   "cell_type": "code",
   "execution_count": 103,
   "metadata": {},
   "outputs": [],
   "source": [
    "ytrue = np.argmax(y_test, axis=1).tolist()\n",
    "yhat = np.argmax(yhat, axis=1).tolist()"
   ]
  },
  {
   "cell_type": "code",
   "execution_count": 104,
   "metadata": {},
   "outputs": [
    {
     "data": {
      "text/plain": [
       "1.0"
      ]
     },
     "execution_count": 104,
     "metadata": {},
     "output_type": "execute_result"
    }
   ],
   "source": [
    "accuracy_score(ytrue, yhat)"
   ]
  },
  {
   "cell_type": "markdown",
   "metadata": {},
   "source": [
    "# Test in Real Time"
   ]
  },
  {
   "cell_type": "code",
   "execution_count": 111,
   "metadata": {},
   "outputs": [],
   "source": [
    "colors = [(245,117,16), (117,245,16), (16,117,245),(102, 204, 255),(255,102,153)]\n",
    "def prob_viz(res, actions, input_frame, colors):\n",
    "    output_frame = input_frame.copy()\n",
    "    for num, prob in enumerate(res):\n",
    "        cv2.rectangle(output_frame, (0,60+num*40), (int(prob*100), 90+num*40), colors[num], -1)\n",
    "        cv2.putText(output_frame, actions[num], (0, 85+num*40), cv2.FONT_HERSHEY_SIMPLEX, 1, (255,255,255), 2, cv2.LINE_AA)\n",
    "        \n",
    "    return output_frame"
   ]
  },
  {
   "cell_type": "code",
   "execution_count": 120,
   "metadata": {},
   "outputs": [
    {
     "name": "stdout",
     "output_type": "stream",
     "text": [
      "<class 'mediapipe.python.solution_base.SolutionOutputs'>\n",
      "<class 'mediapipe.python.solution_base.SolutionOutputs'>\n",
      "<class 'mediapipe.python.solution_base.SolutionOutputs'>\n",
      "<class 'mediapipe.python.solution_base.SolutionOutputs'>\n",
      "<class 'mediapipe.python.solution_base.SolutionOutputs'>\n",
      "<class 'mediapipe.python.solution_base.SolutionOutputs'>\n",
      "<class 'mediapipe.python.solution_base.SolutionOutputs'>\n",
      "<class 'mediapipe.python.solution_base.SolutionOutputs'>\n",
      "<class 'mediapipe.python.solution_base.SolutionOutputs'>\n",
      "<class 'mediapipe.python.solution_base.SolutionOutputs'>\n",
      "<class 'mediapipe.python.solution_base.SolutionOutputs'>\n",
      "<class 'mediapipe.python.solution_base.SolutionOutputs'>\n",
      "<class 'mediapipe.python.solution_base.SolutionOutputs'>\n",
      "<class 'mediapipe.python.solution_base.SolutionOutputs'>\n",
      "<class 'mediapipe.python.solution_base.SolutionOutputs'>\n",
      "<class 'mediapipe.python.solution_base.SolutionOutputs'>\n",
      "<class 'mediapipe.python.solution_base.SolutionOutputs'>\n",
      "<class 'mediapipe.python.solution_base.SolutionOutputs'>\n",
      "<class 'mediapipe.python.solution_base.SolutionOutputs'>\n",
      "<class 'mediapipe.python.solution_base.SolutionOutputs'>\n",
      "<class 'mediapipe.python.solution_base.SolutionOutputs'>\n",
      "<class 'mediapipe.python.solution_base.SolutionOutputs'>\n",
      "<class 'mediapipe.python.solution_base.SolutionOutputs'>\n",
      "<class 'mediapipe.python.solution_base.SolutionOutputs'>\n",
      "<class 'mediapipe.python.solution_base.SolutionOutputs'>\n",
      "<class 'mediapipe.python.solution_base.SolutionOutputs'>\n",
      "<class 'mediapipe.python.solution_base.SolutionOutputs'>\n",
      "<class 'mediapipe.python.solution_base.SolutionOutputs'>\n",
      "<class 'mediapipe.python.solution_base.SolutionOutputs'>\n",
      "<class 'mediapipe.python.solution_base.SolutionOutputs'>\n",
      "hello\n",
      "<class 'mediapipe.python.solution_base.SolutionOutputs'>\n",
      "hello\n",
      "<class 'mediapipe.python.solution_base.SolutionOutputs'>\n",
      "hello\n",
      "<class 'mediapipe.python.solution_base.SolutionOutputs'>\n",
      "hello\n",
      "<class 'mediapipe.python.solution_base.SolutionOutputs'>\n",
      "hello\n",
      "<class 'mediapipe.python.solution_base.SolutionOutputs'>\n",
      "hello\n",
      "<class 'mediapipe.python.solution_base.SolutionOutputs'>\n",
      "hello\n",
      "<class 'mediapipe.python.solution_base.SolutionOutputs'>\n",
      "hello\n",
      "<class 'mediapipe.python.solution_base.SolutionOutputs'>\n",
      "hello\n",
      "<class 'mediapipe.python.solution_base.SolutionOutputs'>\n",
      "hello\n",
      "<class 'mediapipe.python.solution_base.SolutionOutputs'>\n",
      "hello\n",
      "<class 'mediapipe.python.solution_base.SolutionOutputs'>\n",
      "hello\n",
      "<class 'mediapipe.python.solution_base.SolutionOutputs'>\n",
      "hello\n",
      "<class 'mediapipe.python.solution_base.SolutionOutputs'>\n",
      "hello\n",
      "<class 'mediapipe.python.solution_base.SolutionOutputs'>\n",
      "hello\n",
      "<class 'mediapipe.python.solution_base.SolutionOutputs'>\n",
      "hello\n",
      "<class 'mediapipe.python.solution_base.SolutionOutputs'>\n",
      "hello\n",
      "<class 'mediapipe.python.solution_base.SolutionOutputs'>\n",
      "hello\n",
      "<class 'mediapipe.python.solution_base.SolutionOutputs'>\n",
      "hello\n",
      "<class 'mediapipe.python.solution_base.SolutionOutputs'>\n",
      "hello\n",
      "<class 'mediapipe.python.solution_base.SolutionOutputs'>\n",
      "hello\n",
      "<class 'mediapipe.python.solution_base.SolutionOutputs'>\n",
      "home\n",
      "<class 'mediapipe.python.solution_base.SolutionOutputs'>\n",
      "home\n",
      "<class 'mediapipe.python.solution_base.SolutionOutputs'>\n",
      "home\n",
      "<class 'mediapipe.python.solution_base.SolutionOutputs'>\n",
      "home\n",
      "<class 'mediapipe.python.solution_base.SolutionOutputs'>\n",
      "home\n",
      "<class 'mediapipe.python.solution_base.SolutionOutputs'>\n",
      "home\n",
      "<class 'mediapipe.python.solution_base.SolutionOutputs'>\n",
      "help\n",
      "<class 'mediapipe.python.solution_base.SolutionOutputs'>\n",
      "help\n",
      "<class 'mediapipe.python.solution_base.SolutionOutputs'>\n",
      "home\n",
      "<class 'mediapipe.python.solution_base.SolutionOutputs'>\n",
      "help\n",
      "<class 'mediapipe.python.solution_base.SolutionOutputs'>\n",
      "help\n",
      "<class 'mediapipe.python.solution_base.SolutionOutputs'>\n",
      "help\n",
      "<class 'mediapipe.python.solution_base.SolutionOutputs'>\n",
      "thanks\n",
      "<class 'mediapipe.python.solution_base.SolutionOutputs'>\n",
      "thanks\n",
      "<class 'mediapipe.python.solution_base.SolutionOutputs'>\n",
      "thanks\n",
      "<class 'mediapipe.python.solution_base.SolutionOutputs'>\n",
      "thanks\n",
      "<class 'mediapipe.python.solution_base.SolutionOutputs'>\n",
      "thanks\n",
      "<class 'mediapipe.python.solution_base.SolutionOutputs'>\n",
      "thanks\n",
      "<class 'mediapipe.python.solution_base.SolutionOutputs'>\n",
      "thanks\n",
      "<class 'mediapipe.python.solution_base.SolutionOutputs'>\n",
      "thanks\n",
      "<class 'mediapipe.python.solution_base.SolutionOutputs'>\n",
      "thanks\n",
      "<class 'mediapipe.python.solution_base.SolutionOutputs'>\n",
      "thanks\n",
      "<class 'mediapipe.python.solution_base.SolutionOutputs'>\n",
      "thanks\n",
      "<class 'mediapipe.python.solution_base.SolutionOutputs'>\n",
      "thanks\n",
      "<class 'mediapipe.python.solution_base.SolutionOutputs'>\n",
      "thanks\n",
      "<class 'mediapipe.python.solution_base.SolutionOutputs'>\n",
      "thanks\n",
      "<class 'mediapipe.python.solution_base.SolutionOutputs'>\n",
      "thanks\n",
      "<class 'mediapipe.python.solution_base.SolutionOutputs'>\n",
      "thanks\n",
      "<class 'mediapipe.python.solution_base.SolutionOutputs'>\n",
      "thanks\n",
      "<class 'mediapipe.python.solution_base.SolutionOutputs'>\n",
      "thanks\n",
      "<class 'mediapipe.python.solution_base.SolutionOutputs'>\n",
      "thanks\n",
      "<class 'mediapipe.python.solution_base.SolutionOutputs'>\n",
      "thanks\n",
      "<class 'mediapipe.python.solution_base.SolutionOutputs'>\n",
      "thanks\n",
      "<class 'mediapipe.python.solution_base.SolutionOutputs'>\n",
      "thanks\n",
      "<class 'mediapipe.python.solution_base.SolutionOutputs'>\n",
      "thanks\n",
      "<class 'mediapipe.python.solution_base.SolutionOutputs'>\n",
      "thanks\n",
      "<class 'mediapipe.python.solution_base.SolutionOutputs'>\n",
      "thanks\n",
      "<class 'mediapipe.python.solution_base.SolutionOutputs'>\n",
      "thanks\n",
      "<class 'mediapipe.python.solution_base.SolutionOutputs'>\n",
      "thanks\n",
      "<class 'mediapipe.python.solution_base.SolutionOutputs'>\n",
      "thanks\n",
      "<class 'mediapipe.python.solution_base.SolutionOutputs'>\n",
      "thanks\n",
      "<class 'mediapipe.python.solution_base.SolutionOutputs'>\n",
      "thanks\n",
      "<class 'mediapipe.python.solution_base.SolutionOutputs'>\n",
      "thanks\n",
      "<class 'mediapipe.python.solution_base.SolutionOutputs'>\n",
      "thanks\n",
      "<class 'mediapipe.python.solution_base.SolutionOutputs'>\n",
      "thanks\n",
      "<class 'mediapipe.python.solution_base.SolutionOutputs'>\n",
      "thanks\n",
      "<class 'mediapipe.python.solution_base.SolutionOutputs'>\n",
      "thanks\n",
      "<class 'mediapipe.python.solution_base.SolutionOutputs'>\n",
      "help\n",
      "<class 'mediapipe.python.solution_base.SolutionOutputs'>\n",
      "help\n",
      "<class 'mediapipe.python.solution_base.SolutionOutputs'>\n",
      "help\n",
      "<class 'mediapipe.python.solution_base.SolutionOutputs'>\n",
      "help\n",
      "<class 'mediapipe.python.solution_base.SolutionOutputs'>\n",
      "help\n",
      "<class 'mediapipe.python.solution_base.SolutionOutputs'>\n",
      "help\n",
      "<class 'mediapipe.python.solution_base.SolutionOutputs'>\n",
      "help\n",
      "<class 'mediapipe.python.solution_base.SolutionOutputs'>\n",
      "help\n",
      "<class 'mediapipe.python.solution_base.SolutionOutputs'>\n",
      "help\n",
      "<class 'mediapipe.python.solution_base.SolutionOutputs'>\n",
      "help\n",
      "<class 'mediapipe.python.solution_base.SolutionOutputs'>\n",
      "help\n",
      "<class 'mediapipe.python.solution_base.SolutionOutputs'>\n",
      "help\n",
      "<class 'mediapipe.python.solution_base.SolutionOutputs'>\n",
      "help\n",
      "<class 'mediapipe.python.solution_base.SolutionOutputs'>\n",
      "help\n",
      "<class 'mediapipe.python.solution_base.SolutionOutputs'>\n",
      "help\n",
      "<class 'mediapipe.python.solution_base.SolutionOutputs'>\n",
      "help\n",
      "<class 'mediapipe.python.solution_base.SolutionOutputs'>\n",
      "help\n",
      "<class 'mediapipe.python.solution_base.SolutionOutputs'>\n",
      "help\n",
      "<class 'mediapipe.python.solution_base.SolutionOutputs'>\n",
      "help\n",
      "<class 'mediapipe.python.solution_base.SolutionOutputs'>\n",
      "help\n",
      "<class 'mediapipe.python.solution_base.SolutionOutputs'>\n",
      "help\n",
      "<class 'mediapipe.python.solution_base.SolutionOutputs'>\n",
      "help\n",
      "<class 'mediapipe.python.solution_base.SolutionOutputs'>\n",
      "help\n",
      "<class 'mediapipe.python.solution_base.SolutionOutputs'>\n",
      "help\n",
      "<class 'mediapipe.python.solution_base.SolutionOutputs'>\n",
      "help\n",
      "<class 'mediapipe.python.solution_base.SolutionOutputs'>\n",
      "help\n",
      "<class 'mediapipe.python.solution_base.SolutionOutputs'>\n",
      "sorry\n",
      "<class 'mediapipe.python.solution_base.SolutionOutputs'>\n",
      "sorry\n",
      "<class 'mediapipe.python.solution_base.SolutionOutputs'>\n",
      "sorry\n",
      "<class 'mediapipe.python.solution_base.SolutionOutputs'>\n",
      "sorry\n",
      "<class 'mediapipe.python.solution_base.SolutionOutputs'>\n",
      "sorry\n",
      "<class 'mediapipe.python.solution_base.SolutionOutputs'>\n",
      "sorry\n",
      "<class 'mediapipe.python.solution_base.SolutionOutputs'>\n",
      "sorry\n",
      "<class 'mediapipe.python.solution_base.SolutionOutputs'>\n",
      "sorry\n",
      "<class 'mediapipe.python.solution_base.SolutionOutputs'>\n",
      "sorry\n",
      "<class 'mediapipe.python.solution_base.SolutionOutputs'>\n",
      "sorry\n"
     ]
    },
    {
     "name": "stdout",
     "output_type": "stream",
     "text": [
      "<class 'mediapipe.python.solution_base.SolutionOutputs'>\n",
      "sorry\n",
      "<class 'mediapipe.python.solution_base.SolutionOutputs'>\n",
      "sorry\n",
      "<class 'mediapipe.python.solution_base.SolutionOutputs'>\n",
      "sorry\n",
      "<class 'mediapipe.python.solution_base.SolutionOutputs'>\n",
      "sorry\n",
      "<class 'mediapipe.python.solution_base.SolutionOutputs'>\n",
      "sorry\n",
      "<class 'mediapipe.python.solution_base.SolutionOutputs'>\n",
      "sorry\n",
      "<class 'mediapipe.python.solution_base.SolutionOutputs'>\n",
      "sorry\n",
      "<class 'mediapipe.python.solution_base.SolutionOutputs'>\n",
      "sorry\n",
      "<class 'mediapipe.python.solution_base.SolutionOutputs'>\n",
      "sorry\n",
      "<class 'mediapipe.python.solution_base.SolutionOutputs'>\n",
      "sorry\n",
      "<class 'mediapipe.python.solution_base.SolutionOutputs'>\n",
      "sorry\n",
      "<class 'mediapipe.python.solution_base.SolutionOutputs'>\n",
      "sorry\n",
      "<class 'mediapipe.python.solution_base.SolutionOutputs'>\n",
      "sorry\n",
      "<class 'mediapipe.python.solution_base.SolutionOutputs'>\n",
      "sorry\n",
      "<class 'mediapipe.python.solution_base.SolutionOutputs'>\n",
      "sorry\n",
      "<class 'mediapipe.python.solution_base.SolutionOutputs'>\n",
      "sorry\n",
      "<class 'mediapipe.python.solution_base.SolutionOutputs'>\n",
      "sorry\n",
      "<class 'mediapipe.python.solution_base.SolutionOutputs'>\n",
      "sorry\n",
      "<class 'mediapipe.python.solution_base.SolutionOutputs'>\n",
      "sorry\n",
      "<class 'mediapipe.python.solution_base.SolutionOutputs'>\n",
      "sorry\n",
      "<class 'mediapipe.python.solution_base.SolutionOutputs'>\n",
      "sorry\n",
      "<class 'mediapipe.python.solution_base.SolutionOutputs'>\n",
      "sorry\n",
      "<class 'mediapipe.python.solution_base.SolutionOutputs'>\n",
      "sorry\n",
      "<class 'mediapipe.python.solution_base.SolutionOutputs'>\n",
      "sorry\n",
      "<class 'mediapipe.python.solution_base.SolutionOutputs'>\n",
      "sorry\n",
      "<class 'mediapipe.python.solution_base.SolutionOutputs'>\n",
      "sorry\n",
      "<class 'mediapipe.python.solution_base.SolutionOutputs'>\n",
      "sorry\n",
      "<class 'mediapipe.python.solution_base.SolutionOutputs'>\n",
      "sorry\n",
      "<class 'mediapipe.python.solution_base.SolutionOutputs'>\n",
      "sorry\n",
      "<class 'mediapipe.python.solution_base.SolutionOutputs'>\n",
      "sorry\n",
      "<class 'mediapipe.python.solution_base.SolutionOutputs'>\n",
      "help\n",
      "<class 'mediapipe.python.solution_base.SolutionOutputs'>\n",
      "help\n",
      "<class 'mediapipe.python.solution_base.SolutionOutputs'>\n",
      "help\n",
      "<class 'mediapipe.python.solution_base.SolutionOutputs'>\n",
      "help\n",
      "<class 'mediapipe.python.solution_base.SolutionOutputs'>\n",
      "help\n",
      "<class 'mediapipe.python.solution_base.SolutionOutputs'>\n",
      "help\n",
      "<class 'mediapipe.python.solution_base.SolutionOutputs'>\n",
      "help\n",
      "<class 'mediapipe.python.solution_base.SolutionOutputs'>\n",
      "help\n",
      "<class 'mediapipe.python.solution_base.SolutionOutputs'>\n",
      "help\n",
      "<class 'mediapipe.python.solution_base.SolutionOutputs'>\n",
      "help\n",
      "<class 'mediapipe.python.solution_base.SolutionOutputs'>\n",
      "help\n",
      "<class 'mediapipe.python.solution_base.SolutionOutputs'>\n",
      "help\n",
      "<class 'mediapipe.python.solution_base.SolutionOutputs'>\n",
      "help\n",
      "<class 'mediapipe.python.solution_base.SolutionOutputs'>\n",
      "sorry\n",
      "<class 'mediapipe.python.solution_base.SolutionOutputs'>\n",
      "sorry\n",
      "<class 'mediapipe.python.solution_base.SolutionOutputs'>\n",
      "sorry\n",
      "<class 'mediapipe.python.solution_base.SolutionOutputs'>\n",
      "sorry\n",
      "<class 'mediapipe.python.solution_base.SolutionOutputs'>\n",
      "help\n",
      "<class 'mediapipe.python.solution_base.SolutionOutputs'>\n",
      "help\n",
      "<class 'mediapipe.python.solution_base.SolutionOutputs'>\n",
      "help\n",
      "<class 'mediapipe.python.solution_base.SolutionOutputs'>\n",
      "sorry\n",
      "<class 'mediapipe.python.solution_base.SolutionOutputs'>\n",
      "hello\n",
      "<class 'mediapipe.python.solution_base.SolutionOutputs'>\n",
      "hello\n",
      "<class 'mediapipe.python.solution_base.SolutionOutputs'>\n",
      "hello\n",
      "<class 'mediapipe.python.solution_base.SolutionOutputs'>\n",
      "hello\n",
      "<class 'mediapipe.python.solution_base.SolutionOutputs'>\n",
      "hello\n",
      "<class 'mediapipe.python.solution_base.SolutionOutputs'>\n",
      "hello\n",
      "<class 'mediapipe.python.solution_base.SolutionOutputs'>\n",
      "hello\n",
      "<class 'mediapipe.python.solution_base.SolutionOutputs'>\n",
      "hello\n",
      "<class 'mediapipe.python.solution_base.SolutionOutputs'>\n",
      "hello\n",
      "<class 'mediapipe.python.solution_base.SolutionOutputs'>\n",
      "hello\n",
      "<class 'mediapipe.python.solution_base.SolutionOutputs'>\n",
      "hello\n",
      "<class 'mediapipe.python.solution_base.SolutionOutputs'>\n",
      "hello\n",
      "<class 'mediapipe.python.solution_base.SolutionOutputs'>\n",
      "hello\n",
      "<class 'mediapipe.python.solution_base.SolutionOutputs'>\n",
      "sorry\n",
      "<class 'mediapipe.python.solution_base.SolutionOutputs'>\n",
      "sorry\n",
      "<class 'mediapipe.python.solution_base.SolutionOutputs'>\n",
      "sorry\n",
      "<class 'mediapipe.python.solution_base.SolutionOutputs'>\n",
      "sorry\n",
      "<class 'mediapipe.python.solution_base.SolutionOutputs'>\n",
      "sorry\n",
      "<class 'mediapipe.python.solution_base.SolutionOutputs'>\n",
      "sorry\n",
      "<class 'mediapipe.python.solution_base.SolutionOutputs'>\n",
      "sorry\n",
      "<class 'mediapipe.python.solution_base.SolutionOutputs'>\n",
      "help\n",
      "<class 'mediapipe.python.solution_base.SolutionOutputs'>\n",
      "help\n",
      "<class 'mediapipe.python.solution_base.SolutionOutputs'>\n",
      "help\n",
      "<class 'mediapipe.python.solution_base.SolutionOutputs'>\n",
      "help\n",
      "<class 'mediapipe.python.solution_base.SolutionOutputs'>\n",
      "help\n",
      "<class 'mediapipe.python.solution_base.SolutionOutputs'>\n",
      "help\n",
      "<class 'mediapipe.python.solution_base.SolutionOutputs'>\n",
      "help\n",
      "<class 'mediapipe.python.solution_base.SolutionOutputs'>\n",
      "help\n",
      "<class 'mediapipe.python.solution_base.SolutionOutputs'>\n",
      "help\n",
      "<class 'mediapipe.python.solution_base.SolutionOutputs'>\n",
      "help\n",
      "<class 'mediapipe.python.solution_base.SolutionOutputs'>\n",
      "help\n",
      "<class 'mediapipe.python.solution_base.SolutionOutputs'>\n",
      "help\n",
      "<class 'mediapipe.python.solution_base.SolutionOutputs'>\n",
      "help\n",
      "<class 'mediapipe.python.solution_base.SolutionOutputs'>\n",
      "help\n",
      "<class 'mediapipe.python.solution_base.SolutionOutputs'>\n",
      "help\n",
      "<class 'mediapipe.python.solution_base.SolutionOutputs'>\n",
      "help\n",
      "<class 'mediapipe.python.solution_base.SolutionOutputs'>\n",
      "help\n",
      "<class 'mediapipe.python.solution_base.SolutionOutputs'>\n",
      "help\n",
      "<class 'mediapipe.python.solution_base.SolutionOutputs'>\n",
      "help\n",
      "<class 'mediapipe.python.solution_base.SolutionOutputs'>\n",
      "help\n",
      "<class 'mediapipe.python.solution_base.SolutionOutputs'>\n",
      "help\n",
      "<class 'mediapipe.python.solution_base.SolutionOutputs'>\n",
      "help\n",
      "<class 'mediapipe.python.solution_base.SolutionOutputs'>\n",
      "help\n",
      "<class 'mediapipe.python.solution_base.SolutionOutputs'>\n",
      "help\n",
      "<class 'mediapipe.python.solution_base.SolutionOutputs'>\n",
      "help\n",
      "<class 'mediapipe.python.solution_base.SolutionOutputs'>\n",
      "help\n",
      "<class 'mediapipe.python.solution_base.SolutionOutputs'>\n",
      "home\n",
      "<class 'mediapipe.python.solution_base.SolutionOutputs'>\n",
      "home\n",
      "<class 'mediapipe.python.solution_base.SolutionOutputs'>\n",
      "home\n",
      "<class 'mediapipe.python.solution_base.SolutionOutputs'>\n",
      "home\n",
      "<class 'mediapipe.python.solution_base.SolutionOutputs'>\n",
      "home\n",
      "<class 'mediapipe.python.solution_base.SolutionOutputs'>\n",
      "home\n",
      "<class 'mediapipe.python.solution_base.SolutionOutputs'>\n",
      "home\n",
      "<class 'mediapipe.python.solution_base.SolutionOutputs'>\n",
      "home\n",
      "<class 'mediapipe.python.solution_base.SolutionOutputs'>\n",
      "home\n",
      "<class 'mediapipe.python.solution_base.SolutionOutputs'>\n",
      "home\n",
      "<class 'mediapipe.python.solution_base.SolutionOutputs'>\n",
      "home\n",
      "<class 'mediapipe.python.solution_base.SolutionOutputs'>\n",
      "home\n",
      "<class 'mediapipe.python.solution_base.SolutionOutputs'>\n",
      "home\n",
      "<class 'mediapipe.python.solution_base.SolutionOutputs'>\n",
      "home\n",
      "<class 'mediapipe.python.solution_base.SolutionOutputs'>\n",
      "home\n",
      "<class 'mediapipe.python.solution_base.SolutionOutputs'>\n",
      "home\n",
      "<class 'mediapipe.python.solution_base.SolutionOutputs'>\n",
      "home\n",
      "<class 'mediapipe.python.solution_base.SolutionOutputs'>\n",
      "home\n",
      "<class 'mediapipe.python.solution_base.SolutionOutputs'>\n",
      "home\n",
      "<class 'mediapipe.python.solution_base.SolutionOutputs'>\n",
      "home\n",
      "<class 'mediapipe.python.solution_base.SolutionOutputs'>\n",
      "home\n",
      "<class 'mediapipe.python.solution_base.SolutionOutputs'>\n",
      "home\n",
      "<class 'mediapipe.python.solution_base.SolutionOutputs'>\n",
      "home\n",
      "<class 'mediapipe.python.solution_base.SolutionOutputs'>\n",
      "home\n",
      "<class 'mediapipe.python.solution_base.SolutionOutputs'>\n",
      "help\n",
      "<class 'mediapipe.python.solution_base.SolutionOutputs'>\n",
      "help\n",
      "<class 'mediapipe.python.solution_base.SolutionOutputs'>\n",
      "help\n",
      "<class 'mediapipe.python.solution_base.SolutionOutputs'>\n",
      "help\n",
      "<class 'mediapipe.python.solution_base.SolutionOutputs'>\n",
      "help\n",
      "<class 'mediapipe.python.solution_base.SolutionOutputs'>\n",
      "help\n",
      "<class 'mediapipe.python.solution_base.SolutionOutputs'>\n",
      "help\n",
      "<class 'mediapipe.python.solution_base.SolutionOutputs'>\n",
      "help\n",
      "<class 'mediapipe.python.solution_base.SolutionOutputs'>\n",
      "help\n",
      "<class 'mediapipe.python.solution_base.SolutionOutputs'>\n",
      "help\n"
     ]
    }
   ],
   "source": [
    "# 1. New detection variables\n",
    "sequence = []\n",
    "sentence = []\n",
    "threshold = 0.8\n",
    "\n",
    "cap = cv2.VideoCapture(0)\n",
    "# Set mediapipe model \n",
    "with mp_holistic.Holistic(min_detection_confidence=0.5, min_tracking_confidence=0.5) as holistic:\n",
    "    while cap.isOpened():\n",
    "\n",
    "        # Read feed\n",
    "        ret, frame = cap.read()\n",
    "\n",
    "        # Make detections\n",
    "        image, results = mediapipe_detection(frame, holistic)\n",
    "        print(results)\n",
    "        \n",
    "        \n",
    "        # 2. Prediction logic\n",
    "        keypoints = extract_keypoints(results)\n",
    "        sequence.append(keypoints)\n",
    "        sequence = sequence[-30:]\n",
    "        \n",
    "        if len(sequence) == 30:\n",
    "            res = model.predict(np.expand_dims(sequence, axis=0))[0]\n",
    "            print(actions[np.argmax(res)])\n",
    "            \n",
    "            \n",
    "        #3. Viz logic\n",
    "            if res[np.argmax(res)] > threshold: \n",
    "                if len(sentence) > 0: \n",
    "                    if actions[np.argmax(res)] != sentence[-1]:\n",
    "                        sentence.append(actions[np.argmax(res)])\n",
    "                else:\n",
    "                    sentence.append(actions[np.argmax(res)])\n",
    "\n",
    "            if len(sentence) > 5: \n",
    "                sentence = sentence[-5:]\n",
    "\n",
    "            # Viz probabilities\n",
    "            image = prob_viz(res, actions, image, colors)\n",
    "            \n",
    "        cv2.rectangle(image, (0,0), (640, 40), (255, 205, 81), -1)\n",
    "        cv2.putText(image, ' '.join(sentence), (3,30), \n",
    "                       cv2.FONT_HERSHEY_SIMPLEX, 1, (255, 255, 255), 2, cv2.LINE_AA)\n",
    "        \n",
    "        # Show to screen\n",
    "        cv2.imshow('OpenCV Feed', image)\n",
    "\n",
    "        # Break \n",
    "        if cv2.waitKey(10) & 0xFF == ord('q'):\n",
    "            break\n",
    "    cap.release()\n",
    "    cv2.destroyAllWindows()"
   ]
  },
  {
   "cell_type": "code",
   "execution_count": null,
   "metadata": {},
   "outputs": [],
   "source": []
  }
 ],
 "metadata": {
  "kernelspec": {
   "display_name": "Python 3 (ipykernel)",
   "language": "python",
   "name": "python3"
  },
  "language_info": {
   "codemirror_mode": {
    "name": "ipython",
    "version": 3
   },
   "file_extension": ".py",
   "mimetype": "text/x-python",
   "name": "python",
   "nbconvert_exporter": "python",
   "pygments_lexer": "ipython3",
   "version": "3.8.8"
  }
 },
 "nbformat": 4,
 "nbformat_minor": 2
}
